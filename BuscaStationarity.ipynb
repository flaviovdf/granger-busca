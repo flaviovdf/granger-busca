{
 "cells": [
  {
   "cell_type": "markdown",
   "metadata": {},
   "source": [
    "# Stationarity of busca model\n",
    "\n",
    "  * Olmo et al shows that a log-logistic captures stationary distribution empirically\n",
    "  * Stationary Point Processes with Markov-Dependent Intervals and Infinite Intensity details the true distribution\n",
    "    - https://sci-hub.tw/https://www.jstor.org/stable/3213570\n",
    "   \n",
    "  \n",
    "Here we shall compare both"
   ]
  },
  {
   "cell_type": "code",
   "execution_count": 15,
   "metadata": {},
   "outputs": [],
   "source": [
    "%matplotlib inline\n",
    "\n",
    "import matplotlib.pyplot as plt\n",
    "import numpy as np\n",
    "\n",
    "from scipy.integrate import cumtrapz\n",
    "from scipy.special import exp1\n",
    "from scipy.special import expi\n",
    "from scipy.stats.distributions import fisk\n",
    "\n",
    "from statsmodels.distributions.empirical_distribution import ECDF"
   ]
  },
  {
   "cell_type": "code",
   "execution_count": 16,
   "metadata": {},
   "outputs": [],
   "source": [
    "def SFP(n, mu, rho=1):\n",
    "    # first inter-event time\n",
    "    deltat = mu\n",
    "    # list of inter-event times\n",
    "    Deltat = [deltat]\n",
    "    for i in range(1, n):\n",
    "        # Poisson Process which Beta=deltat+mu/e\n",
    "        deltat = -(deltat+(mu**rho)/np.e)\n",
    "        deltat = deltat * np.log(np.random.rand())\n",
    "        Deltat.append(deltat**(1/rho))\n",
    "    return Deltat"
   ]
  },
  {
   "cell_type": "code",
   "execution_count": 17,
   "metadata": {},
   "outputs": [],
   "source": [
    "def stationary(x, lambda_, alpha=1.0):\n",
    "    aux = (lambda_**2) / alpha\n",
    "    c = 1.0 / (aux * np.exp(aux) * exp1(aux))\n",
    "    pdf = np.exp(-lambda_ * x) / (lambda_ + alpha * x)\n",
    "    return c * pdf"
   ]
  },
  {
   "cell_type": "code",
   "execution_count": 44,
   "metadata": {},
   "outputs": [
    {
     "data": {
      "text/plain": [
       "<matplotlib.legend.Legend at 0x7f936ac90470>"
      ]
     },
     "execution_count": 44,
     "metadata": {},
     "output_type": "execute_result"
    },
    {
     "data": {
      "image/png": "[encoded data removed]",
      "text/plain": [
       "<matplotlib.figure.Figure at 0x7f936ac30390>"
      ]
     },
     "metadata": {},
     "output_type": "display_data"
    }
   ],
   "source": [
    "ticks = SFP(1000, np.e)\n",
    "fx = stationary(1.0/x_ticks, 1.0, alpha=1.0)\n",
    "Fx = 1 - cumtrapz(fx, 1.0/x_ticks, initial=0)\n",
    "\n",
    "\n",
    "ecdf = ECDF(vals)\n",
    "x_ticks = np.unique(vals)\n",
    "plt.loglog(x_ticks, (1-ecdf(x_ticks)), label='busca/sfp pedro code')\n",
    "plt.loglog(x_ticks, Fx, label='busca/sfp pedro code')\n",
    "\n",
    "plt.legend()"
   ]
  },
  {
   "cell_type": "code",
   "execution_count": 42,
   "metadata": {},
   "outputs": [
    {
     "data": {
      "text/plain": [
       "array([ 0.        , -0.        , -0.        , ..., -0.99995354,\n",
       "       -0.99995511, -0.99995574])"
      ]
     },
     "execution_count": 42,
     "metadata": {},
     "output_type": "execute_result"
    }
   ],
   "source": [
    "Fx"
   ]
  },
  {
   "cell_type": "code",
   "execution_count": null,
   "metadata": {},
   "outputs": [],
   "source": []
  }
 ],
 "metadata": {
  "kernelspec": {
   "display_name": "Python 3",
   "language": "python",
   "name": "python3"
  },
  "language_info": {
   "codemirror_mode": {
    "name": "ipython",
    "version": 3
   },
   "file_extension": ".py",
   "mimetype": "text/x-python",
   "name": "python",
   "nbconvert_exporter": "python",
   "pygments_lexer": "ipython3",
   "version": "3.6.3"
  }
 },
 "nbformat": 4,
 "nbformat_minor": 2
}
