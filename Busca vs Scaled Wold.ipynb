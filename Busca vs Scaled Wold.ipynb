{
 "cells": [
  {
   "cell_type": "code",
   "execution_count": 37,
   "metadata": {},
   "outputs": [],
   "source": [
    "%matplotlib inline\n",
    "\n",
    "import matplotlib.pyplot as plt\n",
    "import numpy as np\n",
    "\n",
    "from scipy.integrate import cumtrapz\n",
    "from scipy.special import exp1\n",
    "from scipy.special import expi\n",
    "from scipy.stats.distributions import fisk\n",
    "\n",
    "from statsmodels.distributions.empirical_distribution import ECDF"
   ]
  },
  {
   "cell_type": "code",
   "execution_count": 38,
   "metadata": {},
   "outputs": [],
   "source": [
    "def SFP(n, mu, rho=1):\n",
    "    # first inter-event time\n",
    "    deltat = mu\n",
    "    # list of inter-event times\n",
    "    Deltat = [deltat]\n",
    "    for i in range(1, n):\n",
    "        # Poisson Process which Beta=deltat+mu/e\n",
    "        deltat = -(deltat+(mu**rho)/np.e)\n",
    "        deltat = deltat * np.log(np.random.rand())\n",
    "        Deltat.append(deltat**(1/rho))\n",
    "    return Deltat"
   ]
  },
  {
   "cell_type": "code",
   "execution_count": 39,
   "metadata": {},
   "outputs": [],
   "source": [
    "def stationary(x, alpha):\n",
    "    beta = 1.0\n",
    "    aux = (beta ** 2) / alpha\n",
    "    c = 1.0 / (aux * np.exp(aux) * exp1(aux))\n",
    "    pdf = np.exp(-alpha / x) / (alpha * x)\n",
    "    return c * pdf"
   ]
  },
  {
   "cell_type": "code",
   "execution_count": 40,
   "metadata": {},
   "outputs": [],
   "source": [
    "x = np.linspace(0.1, 100, 1000)"
   ]
  },
  {
   "cell_type": "code",
   "execution_count": 42,
   "metadata": {},
   "outputs": [
    {
     "data": {
      "text/plain": [
       "[<matplotlib.lines.Line2D at 0x7fd169eef0b8>]"
      ]
     },
     "execution_count": 42,
     "metadata": {},
     "output_type": "execute_result"
    },
    {
     "data": {
      "image/png": "[encoded data removed]",
      "text/plain": [
       "<matplotlib.figure.Figure at 0x7fd169fc2da0>"
      ]
     },
     "metadata": {},
     "output_type": "display_data"
    }
   ],
   "source": [
    "plt.plot(x, stationary(x, 5))"
   ]
  },
  {
   "cell_type": "code",
   "execution_count": 44,
   "metadata": {},
   "outputs": [
    {
     "data": {
      "text/plain": [
       "[<matplotlib.lines.Line2D at 0x7fd169ea7518>]"
      ]
     },
     "execution_count": 44,
     "metadata": {},
     "output_type": "execute_result"
    },
    {
     "data": {
      "image/png": "[encoded data removed]",
      "text/plain": [
       "<matplotlib.figure.Figure at 0x7fd16a07eba8>"
      ]
     },
     "metadata": {},
     "output_type": "display_data"
    }
   ],
   "source": [
    "plt.loglog(x, stationary(x, 0.5))"
   ]
  },
  {
   "cell_type": "code",
   "execution_count": 45,
   "metadata": {},
   "outputs": [],
   "source": [
    "ticks = SFP(1000, np.e)"
   ]
  },
  {
   "cell_type": "code",
   "execution_count": 46,
   "metadata": {},
   "outputs": [
    {
     "data": {
      "text/plain": [
       "(array([ 854.,   59.,   31.,   14.,    9.,    4.,    4.,    3.,    2.,\n",
       "           1.,    3.,    2.,    0.,    1.,    1.,    0.,    1.,    2.,\n",
       "           1.,    0.,    0.,    0.,    0.,    1.,    0.,    0.,    0.,\n",
       "           0.,    0.,    1.,    0.,    1.,    0.,    0.,    1.,    0.,\n",
       "           0.,    0.,    0.,    0.,    0.,    2.,    0.,    0.,    1.,\n",
       "           0.,    0.,    0.,    0.,    0.,    0.,    0.,    0.,    0.,\n",
       "           0.,    0.,    0.,    0.,    0.,    0.,    0.,    0.,    0.,\n",
       "           0.,    0.,    0.,    0.,    0.,    0.,    0.,    0.,    0.,\n",
       "           0.,    0.,    0.,    0.,    0.,    0.,    0.,    0.,    0.,\n",
       "           0.,    0.,    0.,    0.,    0.,    0.,    0.,    0.,    0.,\n",
       "           0.,    0.,    0.,    0.,    0.,    0.,    0.,    0.,    0.,    1.]),\n",
       " array([  5.95858472e-03,   1.23608812e+01,   2.47158039e+01,\n",
       "          3.70707265e+01,   4.94256491e+01,   6.17805718e+01,\n",
       "          7.41354944e+01,   8.64904171e+01,   9.88453397e+01,\n",
       "          1.11200262e+02,   1.23555185e+02,   1.35910108e+02,\n",
       "          1.48265030e+02,   1.60619953e+02,   1.72974876e+02,\n",
       "          1.85329798e+02,   1.97684721e+02,   2.10039643e+02,\n",
       "          2.22394566e+02,   2.34749489e+02,   2.47104411e+02,\n",
       "          2.59459334e+02,   2.71814257e+02,   2.84169179e+02,\n",
       "          2.96524102e+02,   3.08879025e+02,   3.21233947e+02,\n",
       "          3.33588870e+02,   3.45943792e+02,   3.58298715e+02,\n",
       "          3.70653638e+02,   3.83008560e+02,   3.95363483e+02,\n",
       "          4.07718406e+02,   4.20073328e+02,   4.32428251e+02,\n",
       "          4.44783174e+02,   4.57138096e+02,   4.69493019e+02,\n",
       "          4.81847941e+02,   4.94202864e+02,   5.06557787e+02,\n",
       "          5.18912709e+02,   5.31267632e+02,   5.43622555e+02,\n",
       "          5.55977477e+02,   5.68332400e+02,   5.80687323e+02,\n",
       "          5.93042245e+02,   6.05397168e+02,   6.17752091e+02,\n",
       "          6.30107013e+02,   6.42461936e+02,   6.54816858e+02,\n",
       "          6.67171781e+02,   6.79526704e+02,   6.91881626e+02,\n",
       "          7.04236549e+02,   7.16591472e+02,   7.28946394e+02,\n",
       "          7.41301317e+02,   7.53656240e+02,   7.66011162e+02,\n",
       "          7.78366085e+02,   7.90721007e+02,   8.03075930e+02,\n",
       "          8.15430853e+02,   8.27785775e+02,   8.40140698e+02,\n",
       "          8.52495621e+02,   8.64850543e+02,   8.77205466e+02,\n",
       "          8.89560389e+02,   9.01915311e+02,   9.14270234e+02,\n",
       "          9.26625156e+02,   9.38980079e+02,   9.51335002e+02,\n",
       "          9.63689924e+02,   9.76044847e+02,   9.88399770e+02,\n",
       "          1.00075469e+03,   1.01310961e+03,   1.02546454e+03,\n",
       "          1.03781946e+03,   1.05017438e+03,   1.06252931e+03,\n",
       "          1.07488423e+03,   1.08723915e+03,   1.09959407e+03,\n",
       "          1.11194900e+03,   1.12430392e+03,   1.13665884e+03,\n",
       "          1.14901376e+03,   1.16136869e+03,   1.17372361e+03,\n",
       "          1.18607853e+03,   1.19843345e+03,   1.21078838e+03,\n",
       "          1.22314330e+03,   1.23549822e+03]),\n",
       " <a list of 100 Patch objects>)"
      ]
     },
     "execution_count": 46,
     "metadata": {},
     "output_type": "execute_result"
    },
    {
     "data": {
      "image/png": "[encoded data removed]",
      "text/plain": [
       "<matplotlib.figure.Figure at 0x7fd169dc6cc0>"
      ]
     },
     "metadata": {},
     "output_type": "display_data"
    }
   ],
   "source": [
    "plt.hist(ticks, bins=100)"
   ]
  },
  {
   "cell_type": "code",
   "execution_count": 49,
   "metadata": {},
   "outputs": [
    {
     "data": {
      "text/plain": [
       "array([  0.        ,   0.06611772,   0.21003246,   0.39626838,\n",
       "         0.5971964 ,   0.79924091,   0.99624656,   1.18560632,\n",
       "         1.36640858,   1.53855581,   1.70233522,   1.85820446,\n",
       "         2.00668317,   2.14829816,   2.28355643,   2.41293274,\n",
       "         2.5368651 ,   2.65575415,   2.76996474,   2.87982837,\n",
       "         2.98564607,   3.08769125,   3.18621244,   3.28143594,\n",
       "         3.37356801,   3.46279709,   3.54929556,   3.63322147,\n",
       "         3.71471997,   3.79392461,   3.87095853,   3.94593544,\n",
       "         4.01896054,   4.09013131,   4.15953828,   4.22726558,\n",
       "         4.29339159,   4.3579894 ,   4.42112726,   4.48286903,\n",
       "         4.54327452,   4.6023998 ,   4.66029754,   4.71701726,\n",
       "         4.77260555,   4.82710634,   4.88056106,   4.93300884,\n",
       "         4.98448666,   5.03502953,   5.08467061,   5.13344132,\n",
       "         5.18137149,   5.22848947,   5.27482217,   5.32039521,\n",
       "         5.365233  ,   5.40935877,   5.45279469,   5.49556191,\n",
       "         5.53768061,   5.57917011,   5.62004885,   5.66033449,\n",
       "         5.70004393,   5.73919338,   5.77779835,   5.81587373,\n",
       "         5.85343381,   5.89049232,   5.92706244,   5.96315682,\n",
       "         5.99878767,   6.0339667 ,   6.0687052 ,   6.10301404,\n",
       "         6.13690369,   6.17038425,   6.20346546,   6.2361567 ,\n",
       "         6.26846705,   6.30040526,   6.33197979,   6.36319881,\n",
       "         6.39407022,   6.42460166,   6.45480053,   6.48467398,\n",
       "         6.51422893,   6.5434721 ,   6.57240998,   6.60104887,\n",
       "         6.62939487,   6.65745391,   6.68523174,   6.71273391,\n",
       "         6.73996584,   6.76693279,   6.79363985,   6.82009198,\n",
       "         6.84629398,   6.87225055,   6.89796623,   6.92344545,\n",
       "         6.9486925 ,   6.97371158,   6.99850677,   7.02308202,\n",
       "         7.0474412 ,   7.07158808,   7.09552631,   7.11925948,\n",
       "         7.14279105,   7.16612442,   7.18926291,   7.21220973,\n",
       "         7.23496802,   7.25754087,   7.27993127,   7.30214213,\n",
       "         7.32417631,   7.3460366 ,   7.36772572,   7.38924632,\n",
       "         7.41060101,   7.43179231,   7.45282271,   7.47369464,\n",
       "         7.49441045,   7.51497247,   7.53538296,   7.55564413,\n",
       "         7.57575816,   7.59572715,   7.6155532 ,   7.63523833,\n",
       "         7.65478452,   7.67419373,   7.69346785,   7.71260876,\n",
       "         7.73161827,   7.75049819,   7.76925027,   7.78787622,\n",
       "         7.80637773,   7.82475645,   7.84301399,   7.86115195,\n",
       "         7.87917188,   7.8970753 ,   7.91486372,   7.93253859,\n",
       "         7.95010136,   7.96755344,   7.98489621,   8.00213104,\n",
       "         8.01925926,   8.03628218,   8.05320109,   8.07001724,\n",
       "         8.08673189,   8.10334624,   8.11986149,   8.13627882,\n",
       "         8.15259938,   8.16882431,   8.18495471,   8.20099168,\n",
       "         8.21693631,   8.23278964,   8.24855271,   8.26422655,\n",
       "         8.27981215,   8.29531052,   8.31072261,   8.32604939,\n",
       "         8.34129178,   8.35645072,   8.37152712,   8.38652186,\n",
       "         8.40143583,   8.4162699 ,   8.4310249 ,   8.44570169,\n",
       "         8.46030108,   8.47482389,   8.48927092,   8.50364295,\n",
       "         8.51794075,   8.5321651 ,   8.54631674,   8.56039641,\n",
       "         8.57440483,   8.58834273,   8.60221081,   8.61600977,\n",
       "         8.62974029,   8.64340305,   8.65699871,   8.67052793,\n",
       "         8.68399136,   8.69738962,   8.71072336,   8.72399318,\n",
       "         8.7371997 ,   8.75034351,   8.76342522,   8.7764454 ,\n",
       "         8.78940463,   8.80230348,   8.81514251,   8.82792226,\n",
       "         8.84064329,   8.85330614,   8.86591132,   8.87845937,\n",
       "         8.89095079,   8.90338611,   8.91576581,   8.9280904 ,\n",
       "         8.94036037,   8.95257618,   8.96473833,   8.97684728,\n",
       "         8.98890349,   9.00090742,   9.01285953,   9.02476025,\n",
       "         9.03661003,   9.0484093 ,   9.06015849,   9.07185803,\n",
       "         9.08350832,   9.09510979,   9.10666284,   9.11816788,\n",
       "         9.12962529,   9.14103548,   9.15239883,   9.16371572,\n",
       "         9.17498654,   9.18621165,   9.19739143,   9.20852624,\n",
       "         9.21961643,   9.23066237,   9.24166441,   9.2526229 ,\n",
       "         9.26353817,   9.27441057,   9.28524044,   9.2960281 ,\n",
       "         9.30677388,   9.31747811,   9.3281411 ,   9.33876318,\n",
       "         9.34934465,   9.35988583,   9.37038701,   9.38084851,\n",
       "         9.39127062,   9.40165364,   9.41199785,   9.42230356,\n",
       "         9.43257103,   9.44280057,   9.45299244,   9.46314691,\n",
       "         9.47326428,   9.4833448 ,   9.49338874,   9.50339637,\n",
       "         9.51336794,   9.52330373,   9.53320398,   9.54306894,\n",
       "         9.55289887,   9.56269401,   9.57245462,   9.58218093,\n",
       "         9.59187318,   9.60153161,   9.61115646,   9.62074796,\n",
       "         9.63030633,   9.63983181,   9.64932463,   9.658785  ,\n",
       "         9.66821314,   9.67760929,   9.68697364,   9.69630642,\n",
       "         9.70560784,   9.7148781 ,   9.72411743,   9.73332601,\n",
       "         9.74250406,   9.75165178,   9.76076937,   9.76985702,\n",
       "         9.77891493,   9.7879433 ,   9.79694231,   9.80591217,\n",
       "         9.81485304,   9.82376514,   9.83264862,   9.84150369,\n",
       "         9.85033052,   9.85912929,   9.86790018,   9.87664337,\n",
       "         9.88535902,   9.89404732,   9.90270843,   9.91134252,\n",
       "         9.91994976,   9.92853033,   9.93708437,   9.94561206,\n",
       "         9.95411355,   9.96258902,   9.97103861,   9.97946248,\n",
       "         9.9878608 ,   9.99623371,  10.00458137,  10.01290393,\n",
       "        10.02120154,  10.02947435,  10.0377225 ,  10.04594615,\n",
       "        10.05414544,  10.06232051,  10.07047151,  10.07859857,\n",
       "        10.08670185,  10.09478146,  10.10283756,  10.11087029,\n",
       "        10.11887976,  10.12686613,  10.13482952,  10.14277006,\n",
       "        10.15068789,  10.15858313,  10.16645591,  10.17430637,\n",
       "        10.18213462,  10.1899408 ,  10.19772502,  10.20548741,\n",
       "        10.21322809,  10.22094718,  10.22864481,  10.23632108,\n",
       "        10.24397613,  10.25161006,  10.259223  ,  10.26681505,\n",
       "        10.27438634,  10.28193697,  10.28946706,  10.29697672,\n",
       "        10.30446606,  10.31193519,  10.31938422,  10.32681325,\n",
       "        10.3342224 ,  10.34161176,  10.34898145,  10.35633158,\n",
       "        10.36366223,  10.37097352,  10.37826554,  10.38553841,\n",
       "        10.39279221,  10.40002706,  10.40724304,  10.41444026,\n",
       "        10.42161881,  10.42877879,  10.4359203 ,  10.44304343,\n",
       "        10.45014827,  10.45723492,  10.46430348,  10.47135402,\n",
       "        10.47838666,  10.48540146,  10.49239854,  10.49937797,\n",
       "        10.50633985,  10.51328425,  10.52021128,  10.52712102,\n",
       "        10.53401355,  10.54088895,  10.54774732,  10.55458874,\n",
       "        10.56141329,  10.56822105,  10.5750121 ,  10.58178654,\n",
       "        10.58854444,  10.59528587,  10.60201093,  10.60871968,\n",
       "        10.61541221,  10.6220886 ,  10.62874893,  10.63539326,\n",
       "        10.64202168,  10.64863427,  10.65523109,  10.66181223,\n",
       "        10.66837776,  10.67492775,  10.68146227,  10.68798141,\n",
       "        10.69448522,  10.70097379,  10.70744719,  10.71390547,\n",
       "        10.72034873,  10.72677701,  10.73319041,  10.73958897,\n",
       "        10.74597278,  10.7523419 ,  10.75869639,  10.76503633,\n",
       "        10.77136178,  10.7776728 ,  10.78396947,  10.79025185,\n",
       "        10.79651999,  10.80277398,  10.80901386,  10.81523971,\n",
       "        10.82145159,  10.82764955,  10.83383367,  10.840004  ,\n",
       "        10.8461606 ,  10.85230354,  10.85843287,  10.86454867,\n",
       "        10.87065097,  10.87673986,  10.88281537,  10.88887758,\n",
       "        10.89492654,  10.90096231,  10.90698495,  10.91299451,\n",
       "        10.91899104,  10.92497462,  10.93094528,  10.9369031 ,\n",
       "        10.94284811,  10.94878039,  10.95469997,  10.96060692,\n",
       "        10.9665013 ,  10.97238314,  10.97825252,  10.98410947,\n",
       "        10.98995405,  10.99578632,  11.00160632,  11.00741411,\n",
       "        11.01320974,  11.01899326,  11.02476472,  11.03052417,\n",
       "        11.03627166,  11.04200723,  11.04773095,  11.05344285,\n",
       "        11.05914299,  11.06483142,  11.07050817,  11.07617331,\n",
       "        11.08182688,  11.08746892,  11.09309948,  11.09871861,\n",
       "        11.10432636,  11.10992276,  11.11550788,  11.12108174,\n",
       "        11.12664441,  11.13219591,  11.1377363 ,  11.14326563,\n",
       "        11.14878393,  11.15429125,  11.15978763,  11.16527312,\n",
       "        11.17074775,  11.17621158,  11.18166465,  11.18710699,\n",
       "        11.19253865,  11.19795968,  11.2033701 ,  11.20876997,\n",
       "        11.21415932,  11.2195382 ,  11.22490665,  11.23026471,\n",
       "        11.23561241,  11.2409498 ,  11.24627691,  11.25159379,\n",
       "        11.25690048,  11.26219701,  11.26748343,  11.27275977,\n",
       "        11.27802606,  11.28328236,  11.28852869,  11.2937651 ,\n",
       "        11.29899162,  11.30420828,  11.30941514,  11.31461221,\n",
       "        11.31979955,  11.32497718,  11.33014514,  11.33530347,\n",
       "        11.34045221,  11.34559138,  11.35072103,  11.35584119,\n",
       "        11.36095189,  11.36605318,  11.37114508,  11.37622763,\n",
       "        11.38130086,  11.38636481,  11.39141951,  11.396465  ,\n",
       "        11.40150131,  11.40652846,  11.41154651,  11.41655547,\n",
       "        11.42155538,  11.42654628,  11.43152819,  11.43650115,\n",
       "        11.44146519,  11.44642035,  11.45136665,  11.45630412,\n",
       "        11.4612328 ,  11.46615273,  11.47106392,  11.47596641,\n",
       "        11.48086023,  11.48574541,  11.49062199,  11.49548999,\n",
       "        11.50034944,  11.50520038,  11.51004282,  11.51487681,\n",
       "        11.51970237,  11.52451954,  11.52932833,  11.53412878,\n",
       "        11.53892092,  11.54370478,  11.54848038,  11.55324776,\n",
       "        11.55800694,  11.56275795,  11.56750081,  11.57223557,\n",
       "        11.57696223,  11.58168084,  11.58639142,  11.59109399,\n",
       "        11.59578859,  11.60047524,  11.60515396,  11.60982479,\n",
       "        11.61448775,  11.61914287,  11.62379017,  11.62842968,\n",
       "        11.63306142,  11.63768543,  11.64230172,  11.64691033,\n",
       "        11.65151128,  11.65610459,  11.66069029,  11.6652684 ,\n",
       "        11.66983896,  11.67440197,  11.67895748,  11.6835055 ,\n",
       "        11.68804606,  11.69257919,  11.6971049 ,  11.70162322,\n",
       "        11.70613418,  11.7106378 ,  11.7151341 ,  11.7196231 ,\n",
       "        11.72410484,  11.72857934,  11.73304661,  11.73750668,\n",
       "        11.74195958,  11.74640532,  11.75084393,  11.75527544,\n",
       "        11.75969986,  11.76411722,  11.76852755,  11.77293085,\n",
       "        11.77732716,  11.7817165 ,  11.78609889,  11.79047435,\n",
       "        11.7948429 ,  11.79920457,  11.80355937,  11.80790734,\n",
       "        11.81224848,  11.81658283,  11.8209104 ,  11.82523121,\n",
       "        11.82954529,  11.83385265,  11.83815332,  11.84244732,\n",
       "        11.84673466,  11.85101538,  11.85528948,  11.85955699,\n",
       "        11.86381794,  11.86807233,  11.87232019,  11.87656155,\n",
       "        11.88079641,  11.8850248 ,  11.88924675,  11.89346226,\n",
       "        11.89767136,  11.90187407,  11.90607041,  11.9102604 ,\n",
       "        11.91444405,  11.91862139,  11.92279243,  11.92695719,\n",
       "        11.9311157 ,  11.93526797,  11.93941401,  11.94355386,\n",
       "        11.94768752,  11.95181502,  11.95593637,  11.9600516 ,\n",
       "        11.96416071,  11.96826373,  11.97236068,  11.97645158,\n",
       "        11.98053643,  11.98461527,  11.9886881 ,  11.99275495,\n",
       "        11.99681583,  12.00087076,  12.00491976,  12.00896284,\n",
       "        12.01300002,  12.01703133,  12.02105677,  12.02507637,\n",
       "        12.02909013,  12.03309809,  12.03710025,  12.04109662,\n",
       "        12.04508724,  12.04907211,  12.05305125,  12.05702468,\n",
       "        12.06099241,  12.06495447,  12.06891086,  12.0728616 ,\n",
       "        12.07680671,  12.0807462 ,  12.08468009,  12.0886084 ,\n",
       "        12.09253115,  12.09644834,  12.10035999,  12.10426613,\n",
       "        12.10816675,  12.11206189,  12.11595156,  12.11983576,\n",
       "        12.12371452,  12.12758786,  12.13145578,  12.1353183 ,\n",
       "        12.13917544,  12.14302721,  12.14687363,  12.15071471,\n",
       "        12.15455046,  12.15838091,  12.16220607,  12.16602594,\n",
       "        12.16984055,  12.17364991,  12.17745403,  12.18125293,\n",
       "        12.18504662,  12.18883512,  12.19261845,  12.1963966 ,\n",
       "        12.20016961,  12.20393748,  12.20770023,  12.21145786,\n",
       "        12.21521041,  12.21895787,  12.22270027,  12.22643761,\n",
       "        12.23016991,  12.23389718,  12.23761945,  12.24133671,\n",
       "        12.24504899,  12.24875629,  12.25245863,  12.25615603,\n",
       "        12.2598485 ,  12.26353604,  12.26721868,  12.27089643,\n",
       "        12.27456929,  12.27823729,  12.28190043,  12.28555873,\n",
       "        12.2892122 ,  12.29286086,  12.29650471,  12.30014377,\n",
       "        12.30377805,  12.30740756,  12.31103232,  12.31465234,\n",
       "        12.31826763,  12.32187821,  12.32548408,  12.32908526,\n",
       "        12.33268176,  12.33627359,  12.33986077,  12.3434433 ,\n",
       "        12.3470212 ,  12.35059448,  12.35416316,  12.35772723,\n",
       "        12.36128673,  12.36484165,  12.36839201,  12.37193783,\n",
       "        12.37547911,  12.37901586,  12.38254809,  12.38607583,\n",
       "        12.38959907,  12.39311784,  12.39663213,  12.40014197,\n",
       "        12.40364737,  12.40714833,  12.41064487,  12.41413699,\n",
       "        12.41762472,  12.42110805,  12.42458701,  12.4280616 ,\n",
       "        12.43153183,  12.43499772,  12.43845927,  12.44191649,\n",
       "        12.44536941,  12.44881802,  12.45226234,  12.45570238,\n",
       "        12.45913815,  12.46256965,  12.46599691,  12.46941993,\n",
       "        12.47283872,  12.4762533 ,  12.47966366,  12.48306983,\n",
       "        12.48647181,  12.48986962,  12.49326326,  12.49665274,\n",
       "        12.50003808,  12.50341928,  12.50679635,  12.51016931,\n",
       "        12.51353816,  12.51690292,  12.52026359,  12.52362019,\n",
       "        12.52697272,  12.53032119,  12.53366562,  12.53700601,\n",
       "        12.54034238,  12.54367472,  12.54700306,  12.55032741,\n",
       "        12.55364776,  12.55696413,  12.56027654,  12.56358499,\n",
       "        12.56688948,  12.57019004,  12.57348666,  12.57677936,\n",
       "        12.58006815,  12.58335303,  12.58663402,  12.58991113,\n",
       "        12.59318436,  12.59645372,  12.59971923,  12.60298089,\n",
       "        12.60623871,  12.60949269,  12.61274286,  12.61598921,\n",
       "        12.61923176,  12.62247052,  12.62570549,  12.62893668,\n",
       "        12.63216411,  12.63538778,  12.63860769,  12.64182386,\n",
       "        12.64503631,  12.64824502,  12.65145002,  12.65465132,\n",
       "        12.65784891,  12.66104281,  12.66423304,  12.66741959,\n",
       "        12.67060247,  12.6737817 ,  12.67695728,  12.68012922,\n",
       "        12.68329753,  12.68646222,  12.68962329,  12.69278076,\n",
       "        12.69593463,  12.69908491,  12.7022316 ,  12.70537473,\n",
       "        12.70851428,  12.71165028,  12.71478273,  12.71791164,\n",
       "        12.72103702,  12.72415887,  12.7272772 ,  12.73039203,\n",
       "        12.73350335,  12.73661118,  12.73971552,  12.74281638,\n",
       "        12.74591377,  12.74900771,  12.75209818,  12.75518521,\n",
       "        12.7582688 ,  12.76134896,  12.76442569,  12.76749901,\n",
       "        12.77056891,  12.77363542,  12.77669853,  12.77975826,\n",
       "        12.78281461,  12.78586758,  12.78891719,  12.79196345,\n",
       "        12.79500635,  12.79804592,  12.80108215,  12.80411505,\n",
       "        12.80714463,  12.8101709 ,  12.81319386,  12.81621353,\n",
       "        12.8192299 ,  12.82224299,  12.8252528 ,  12.82825935,\n",
       "        12.83126263,  12.83426265,  12.83725943,  12.84025297,\n",
       "        12.84324327,  12.84623034,  12.8492142 ,  12.85219484,\n",
       "        12.85517227,  12.8581465 ,  12.86111754,  12.8640854 ,\n",
       "        12.86705007,  12.87001158,  12.87296992,  12.87592509,\n",
       "        12.87887712,  12.881826  ,  12.88477174,  12.88771435,\n",
       "        12.89065384,  12.89359021,  12.89652346,  12.89945361,\n",
       "        12.90238066,  12.90530462,  12.90822549,  12.91114328,\n",
       "        12.914058  ,  12.91696965,  12.91987825,  12.92278378,\n",
       "        12.92568628,  12.92858573,  12.93148214,  12.93437553,\n",
       "        12.9372659 ,  12.94015325,  12.9430376 ,  12.94591893,\n",
       "        12.94879728,  12.95167263,  12.954545  ,  12.95741439,\n",
       "        12.96028081,  12.96314426,  12.96600475,  12.96886229,\n",
       "        12.97171689,  12.97456854,  12.97741725,  12.98026304,\n",
       "        12.9831059 ,  12.98594585,  12.98878289,  12.99161702,\n",
       "        12.99444825,  12.99727658,  13.00010203,  13.0029246 ,\n",
       "        13.0057443 ,  13.00856112,  13.01137508,  13.01418618,\n",
       "        13.01699443,  13.01979983,  13.02260239,  13.02540211,\n",
       "        13.02819901,  13.03099308,  13.03378434,  13.03657278,\n",
       "        13.03935842,  13.04214125,  13.04492129,  13.04769854,\n",
       "        13.05047301,  13.05324469,  13.05601361,  13.05877975,\n",
       "        13.06154314,  13.06430377,  13.06706164,  13.06981678])"
      ]
     },
     "execution_count": 49,
     "metadata": {},
     "output_type": "execute_result"
    }
   ],
   "source": [
    "Fx = cumtrapz(stationary(x, .5), x, initial=0)\n",
    "Fx"
   ]
  },
  {
   "cell_type": "code",
   "execution_count": null,
   "metadata": {},
   "outputs": [],
   "source": []
  }
 ],
 "metadata": {
  "kernelspec": {
   "display_name": "Python 3",
   "language": "python",
   "name": "python3"
  },
  "language_info": {
   "codemirror_mode": {
    "name": "ipython",
    "version": 3
   },
   "file_extension": ".py",
   "mimetype": "text/x-python",
   "name": "python",
   "nbconvert_exporter": "python",
   "pygments_lexer": "ipython3",
   "version": "3.6.3"
  }
 },
 "nbformat": 4,
 "nbformat_minor": 2
}
